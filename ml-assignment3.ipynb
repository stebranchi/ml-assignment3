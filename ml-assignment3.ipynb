{
 "cells": [
  {
   "cell_type": "code",
   "execution_count": 1,
   "metadata": {},
   "outputs": [
    {
     "name": "stdout",
     "output_type": "stream",
     "text": [
      "WARNING:tensorflow:From C:\\Users\\stebr\\Anaconda3\\lib\\site-packages\\tensorflow_core\\python\\compat\\v2_compat.py:65: disable_resource_variables (from tensorflow.python.ops.variable_scope) is deprecated and will be removed in a future version.\n",
      "Instructions for updating:\n",
      "non-resource variables are not supported in the long term\n"
     ]
    }
   ],
   "source": [
    "import numpy as np\n",
    "import tensorflow.compat.v1 as tf\n",
    "tf.disable_v2_behavior() "
   ]
  },
  {
   "cell_type": "code",
   "execution_count": 13,
   "metadata": {},
   "outputs": [],
   "source": [
    "#train_set\n",
    "train_x = []\n",
    "file = open(\"ocr/train-data.csv\", \"r\")\n",
    "\n",
    "for line in file:\n",
    "    line = line.rstrip().split(\",\")\n",
    "    train_x.append(line)\n",
    "\n",
    "file.close()\n",
    "\n",
    "train_x = np.array(train_x, dtype=float)\n",
    "\n",
    "data = []\n",
    "file = open(\"ocr/train-target.csv\", \"r\")\n",
    "\n",
    "for line in file:\n",
    "    label = line.split()[0]\n",
    "    data.append(label)\n",
    "\n",
    "file.close()\n",
    "\n",
    "train_label_ids = sorted(list(dict.fromkeys(data)))\n",
    "train_n_labels = len(train_label_ids)\n",
    "one_hot = []\n",
    "\n",
    "for label in train_y:\n",
    "    index = train_label_ids.index(label)\n",
    "    vect = np.zeros(train_n_labels)\n",
    "    vect[index] = 1\n",
    "    one_hot.append(vect)\n",
    "\n",
    "train_y = np.array(one_hot, dtype=float)\n",
    "\n",
    "train_x_row, train_x_column = train_x.shape\n",
    "train_y_row, train_y_column = train_y.shape\n",
    "\n",
    "#test-set\n",
    "test_x = []\n",
    "file = open(\"ocr/test-data.csv\", \"r\")\n",
    "\n",
    "for line in file:\n",
    "    line = line.rstrip().split(\",\")\n",
    "    test_x.append(line)\n",
    "\n",
    "file.close()\n",
    "\n",
    "test_x = np.array(test_x, dtype=float)\n",
    "\n",
    "data = []\n",
    "file = open(\"ocr/test-target.csv\", \"r\")\n",
    "\n",
    "for line in file:\n",
    "    label = line.split()[0]\n",
    "    data.append(label)\n",
    "\n",
    "file.close()\n",
    "\n",
    "test_label_ids = sorted(list(dict.fromkeys(data)))\n",
    "test_n_labels = len(test_label_ids)\n",
    "one_hot = []\n",
    "\n",
    "for label in test_y:\n",
    "    index = test_label_ids.index(label)\n",
    "    vect = np.zeros(test_n_labels)\n",
    "    vect[index] = 1\n",
    "    one_hot.append(vect)\n",
    "\n",
    "test_y = np.array(one_hot, dtype=float)\n",
    "\n",
    "test_x_row, test_x_column = test_x.shape\n",
    "test_y_row, test_y_column = test_y.shape"
   ]
  },
  {
   "cell_type": "code",
   "execution_count": 14,
   "metadata": {},
   "outputs": [],
   "source": [
    "x = tf.placeholder(tf.float32, [None, train_x_column])\n",
    "y = tf.placeholder(tf.float32, [None, test_y_column])\n",
    "\n",
    "def weight_variable(shape):\n",
    "    initial = tf.truncated_normal(shape, stddev=0.1)\n",
    "    return tf.Variable(initial)\n",
    "\n",
    "def bias_variable(shape):\n",
    "    initial = tf.constant(0.1, shape=shape)\n",
    "    return tf.Variable(initial)"
   ]
  },
  {
   "cell_type": "code",
   "execution_count": 15,
   "metadata": {},
   "outputs": [],
   "source": [
    "def conv2d(x, W):\n",
    "    return tf.nn.conv2d(x, W, strides=[1, 1, 1, 1], padding='SAME', use_cudnn_on_gpu=False)"
   ]
  },
  {
   "cell_type": "code",
   "execution_count": 16,
   "metadata": {},
   "outputs": [],
   "source": [
    "def max_pool_2x2(x):\n",
    "    return tf.nn.max_pool(x, ksize=[1, 2, 2, 1], strides=[1, 2, 2, 1], padding='SAME')\n",
    "\n",
    "\n",
    "W_conv1 = weight_variable([5, 5, 1, 32])\n",
    "b_conv1 = bias_variable([32])\n",
    "\n",
    "\n",
    "x_image = tf.reshape(x, [-1, 16, 8, 1])\n",
    "\n",
    "\n",
    "h_conv1 = tf.nn.relu(conv2d(x_image, W_conv1) + b_conv1)\n",
    "h_pool1 = max_pool_2x2(h_conv1)\n",
    "\n",
    "\n",
    "W_conv2 = weight_variable([5, 5, 32, 64])\n",
    "b_conv2 = bias_variable([64])\n",
    "\n",
    "h_conv2 = tf.nn.relu(conv2d(h_pool1, W_conv2) + b_conv2)\n",
    "h_pool2 = max_pool_2x2(h_conv2)\n",
    "\n",
    "\n",
    "W_fc1 = weight_variable([4 * 2 * 64, 1024])\n",
    "b_fc1 = bias_variable([1024])\n",
    "\n",
    "h_pool2_flat = tf.reshape(h_pool2, [-1, 4*2*64])\n",
    "h_fc1 = tf.nn.relu(tf.matmul(h_pool2_flat, W_fc1) + b_fc1)\n",
    "\n",
    "keep_prob = tf.placeholder(tf.float32)\n",
    "h_fc1_drop = tf.nn.dropout(h_fc1, keep_prob)\n",
    "\n",
    "\n",
    "W_fc2 = weight_variable([1024, test_n_labels])\n",
    "b_fc2 = bias_variable([test_n_labels])\n",
    "\n",
    "y_conv = tf.matmul(h_fc1_drop, W_fc2) + b_fc2\n",
    "y_hat = tf.nn.softmax(y_conv)\n",
    "\n",
    "\n",
    "cross_entropy = tf.reduce_mean(-tf.reduce_sum(y * tf.log(y_hat), reduction_indices=[1]))\n",
    "\n",
    "train_step = tf.train.AdamOptimizer(1e-4).minimize(cross_entropy)"
   ]
  },
  {
   "cell_type": "code",
   "execution_count": 17,
   "metadata": {},
   "outputs": [],
   "source": [
    "predicted_y = tf.argmax(y_hat, 1)\n",
    "real_y = tf.argmax(y, 1)\n",
    "correct_prediction = tf.equal(predicted_y, real_y)\n",
    "accuracy = tf.reduce_mean(tf.cast(correct_prediction, tf.float32))"
   ]
  },
  {
   "cell_type": "code",
   "execution_count": 22,
   "metadata": {},
   "outputs": [
    {
     "name": "stdout",
     "output_type": "stream",
     "text": [
      "Epochs 0: training accuracy 0.019999999552965164\n",
      "Epochs 100: training accuracy 0.46000000834465027\n",
      "Epochs 200: training accuracy 0.4000000059604645\n",
      "Epochs 300: training accuracy 0.6200000047683716\n",
      "Epochs 400: training accuracy 0.6399999856948853\n",
      "Epochs 500: training accuracy 0.6600000262260437\n",
      "Epochs 600: training accuracy 0.699999988079071\n",
      "Epochs 700: training accuracy 0.7599999904632568\n",
      "Epochs 800: training accuracy 0.7799999713897705\n",
      "Epochs 834: training accuracy 0.761904776096344\n",
      "\n",
      "Test accuracy 0.753966212272644\n"
     ]
    }
   ],
   "source": [
    "session = tf.InteractiveSession()\n",
    "session.run(tf.global_variables_initializer())\n",
    "\n",
    "batch_size = 50\n",
    "epochs = int(train_x_row/batch_size+1)\n",
    "\n",
    "for i in range(epochs):\n",
    "    start = i*batch_size\n",
    "    end = (i+1)*batch_size\n",
    "    \n",
    "    if (((i%100)==0) | (i==int(train_x_row/batch_size))):\n",
    "        train_accuracy = accuracy.eval(feed_dict={x: train_x[start:end], y: train_y[start:end], keep_prob: 1.0})\n",
    "        \n",
    "        print('Epochs {}: training accuracy {}'.format(i, train_accuracy))\n",
    "    \n",
    "    train_step.run(feed_dict={x: train_x[start:end], y: train_y[start:end], keep_prob: 0.5})\n",
    "\n",
    "accuracy_values = []\n",
    "predicted_targets = []\n",
    "\n",
    "batch_size = 100\n",
    "epochs = int(test_x_row/batch_size+1)\n",
    "\n",
    "for j in range(epochs):\n",
    "    start = j*batch_size\n",
    "    end = (j+1)*batch_size\n",
    "    acc, pred_y = session.run([accuracy, predicted_y], feed_dict={x: test_x[start:end], y: test_y[start:end], keep_prob: 1.0})\n",
    "    \n",
    "    \n",
    "    accuracy_values.append(acc)\n",
    "    predicted_targets.extend(pred_y)\n",
    "\n",
    "session.close()\n",
    "    \n",
    "print('\\nTest accuracy {}'.format(np.mean(accuracy_values)))"
   ]
  },
  {
   "cell_type": "code",
   "execution_count": 21,
   "metadata": {},
   "outputs": [],
   "source": [
    "file = open(\"test-pred.csv\", \"w\")\n",
    "\n",
    "for prediction in predicted_targets:\n",
    "    line = test_label_ids[prediction] + \"\\n\"\n",
    "    file.write(line)\n",
    "\n",
    "file.close()"
   ]
  },
  {
   "cell_type": "code",
   "execution_count": null,
   "metadata": {},
   "outputs": [],
   "source": []
  }
 ],
 "metadata": {
  "kernelspec": {
   "display_name": "Python 3",
   "language": "python",
   "name": "python3"
  },
  "language_info": {
   "codemirror_mode": {
    "name": "ipython",
    "version": 3
   },
   "file_extension": ".py",
   "mimetype": "text/x-python",
   "name": "python",
   "nbconvert_exporter": "python",
   "pygments_lexer": "ipython3",
   "version": "3.7.1"
  }
 },
 "nbformat": 4,
 "nbformat_minor": 2
}
